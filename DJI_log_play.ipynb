{
 "cells": [
  {
   "cell_type": "code",
   "execution_count": 1,
   "metadata": {},
   "outputs": [],
   "source": [
    "%matplotlib inline\n",
    "import pandas as pd\n",
    "import matplotlib.pyplot as plt\n",
    "import os\n",
    "import simplekml\n",
    "\n",
    "from datetime import datetime, timedelta\n",
    "from matplotlib.backends.backend_pdf import PdfPages"
   ]
  },
  {
   "cell_type": "code",
   "execution_count": 44,
   "metadata": {},
   "outputs": [
    {
     "name": "stdout",
     "output_type": "stream",
     "text": [
      "23-01-25-01-45-22_FLY018.pdf\n"
     ]
    }
   ],
   "source": [
    "#Icing Testing\n",
    "file = \"2023-01-26 Icing//23-01-25-09-44-01_FLY011.csv\"\n",
    "file = \"2023-01-26 Icing//23-01-25-10-24-45_FLY013.csv\"\n",
    "file = \"2023-01-26 Icing//23-01-25-10-36-51_FLY014.csv\"\n",
    "file = \"2023-01-26 Icing//23-01-25-10-45-43_FLY015.csv\"\n",
    "file = \"2023-01-26 Icing//23-01-25-10-58-55_FLY016.csv\"\n",
    "file = \"2023-01-26 Icing//23-01-25-11-08-29_FLY017.csv\"\n",
    "file = \"2023-01-26 Icing//23-01-25-01-45-22_FLY018.csv\"\n",
    "\n",
    "flight_name = os.path.splitext(os.path.basename(file))[0]\n",
    "pdf_name = flight_name + \".pdf\"\n",
    "kmz_name = flight_name + \".kmz\"\n",
    "print(pdf_name)\n"
   ]
  },
  {
   "cell_type": "code",
   "execution_count": 45,
   "metadata": {},
   "outputs": [
    {
     "name": "stderr",
     "output_type": "stream",
     "text": [
      "C:\\Users\\hastiet\\AppData\\Local\\Temp\\ipykernel_26944\\2088013907.py:2: DtypeWarning: Columns (49,50,123,124,125,126,127,128,129,130,131,132,218) have mixed types. Specify dtype option on import or set low_memory=False.\n",
      "  df = pd.read_csv(file)\n"
     ]
    }
   ],
   "source": [
    "#import the csv file\n",
    "df = pd.read_csv(file)\n",
    "df.fillna(method = 'bfill', inplace = True)\n",
    "df.fillna(value = 0, inplace = True)\n",
    "#print(df.head())\n",
    "#print(df.tail())\n",
    "#fill na with zeros\n"
   ]
  },
  {
   "cell_type": "code",
   "execution_count": 46,
   "metadata": {},
   "outputs": [],
   "source": [
    "#for debugging. Look at the columns we imported.\n",
    "col_names = list(df.columns)\n",
    "#drop the last four columns becuase they're not data\n",
    "col_names = col_names[0:-4]\n",
    "\n",
    "#for col in col_names: \n",
    "#    print(col)"
   ]
  },
  {
   "cell_type": "code",
   "execution_count": 47,
   "metadata": {},
   "outputs": [],
   "source": [
    "#add a datetime column to the df for \n",
    "#this cell is for logs that didn't have a GPS signal. It used an assumed clock tick rate of \n",
    "#3843605.539\n",
    "#drop the first row since it seems to have an invalid timestamp\n",
    "df.drop(df.head(1).index,inplace=True) \n",
    "#df['times'] = pd.to_datetime(df['GPS:dateTimeStamp'], format=\"%Y-%m-%dT%H:%M:%SZ\")\n",
    "\n",
    "df['times'] = (df['Clock:Tick#'] - df['Clock:Tick#'].min())/3843605.539\n",
    "#print(df.tail())\n",
    "\n",
    "#print(df['times'])"
   ]
  },
  {
   "cell_type": "code",
   "execution_count": 48,
   "metadata": {},
   "outputs": [
    {
     "name": "stdout",
     "output_type": "stream",
     "text": [
      "....Done!\n"
     ]
    }
   ],
   "source": [
    "#loop through each column and plot the data against time. \n",
    "#save as a PDF with the same name as the CSV file.\n",
    "with PdfPages(pdf_name) as pdf:\n",
    "     #add a graph of lat/long\n",
    "    fig = plt.plot(df['GPS:Long'],df['GPS:Lat'])\n",
    "    plt.title(\"Lat vs Long\")\n",
    "    plt.grid()\n",
    "    #plt.show()\n",
    "    pdf.savefig()\n",
    "    plt.close()\n",
    "    \n",
    "    for col in col_names: \n",
    "        #print(col)\n",
    "        fig = plt.plot(df['times'],df[col])\n",
    "        plt.title(col)\n",
    "        plt.grid()\n",
    "        #plt.show()\n",
    "        pdf.savefig()\n",
    "        plt.close()\n",
    "        \n",
    "        \n",
    "print(\"....Done!\")\n",
    "        \n",
    "    "
   ]
  },
  {
   "cell_type": "code",
   "execution_count": 156,
   "metadata": {},
   "outputs": [
    {
     "name": "stdout",
     "output_type": "stream",
     "text": [
      "KML File created: Jun 05, 2021\n",
      "23580\n"
     ]
    }
   ],
   "source": [
    "#make a KMZ of the flight path\n",
    "#Obviously this only works for logs that have GPS data.\n",
    "#build the description string for the kml file:\n",
    "analysis_date = datetime.now()\n",
    "description_string = \"KML File created: %s\"%analysis_date.strftime('%b %d, %Y')\n",
    "#description_string += \"\\n\\nSource Data File: %s\"%filename[0].split('\\\\')[-1]\n",
    "print(description_string)\n",
    "line_color = 'ff00ff00'  # Green\n",
    "\n",
    "\n",
    "kml = simplekml.Kml()\n",
    "kml.document.description = description_string\n",
    "\n",
    "    \n",
    "\n",
    "coords = []\n",
    "for coord in zip(df['GPS:Long'],df['GPS:Lat'], df['GPS:heightMSL']):\n",
    "    #print(coord)\n",
    "    coords.append(coord)\n",
    "print(len(coords))\n",
    "\n",
    "\n",
    "\n",
    "#folder for the tracks\n",
    "#fol = approach_folder.newfolder(name=str(flights[flight]['model'][0]))\n",
    "path = kml.newlinestring(name=str(flight_name))\n",
    "path.coords = coords    \n",
    "path.altitudemode = simplekml.AltitudeMode.absolute\n",
    "path.style.linestyle.color = line_color\n",
    "\n",
    "    \n",
    "#print(kml.kml())\n",
    "kml.savekmz(kmz_name)\n"
   ]
  },
  {
   "cell_type": "code",
   "execution_count": null,
   "metadata": {},
   "outputs": [],
   "source": []
  },
  {
   "cell_type": "code",
   "execution_count": null,
   "metadata": {},
   "outputs": [],
   "source": []
  },
  {
   "cell_type": "code",
   "execution_count": null,
   "metadata": {},
   "outputs": [],
   "source": []
  },
  {
   "cell_type": "code",
   "execution_count": null,
   "metadata": {},
   "outputs": [],
   "source": []
  },
  {
   "cell_type": "code",
   "execution_count": null,
   "metadata": {},
   "outputs": [],
   "source": []
  },
  {
   "cell_type": "code",
   "execution_count": null,
   "metadata": {},
   "outputs": [],
   "source": [
    "#backup/Testing Cells"
   ]
  },
  {
   "cell_type": "code",
   "execution_count": null,
   "metadata": {},
   "outputs": [],
   "source": [
    "#add a datetime column to the df for \n",
    "#this cell will only work for logs that had a GPS signal.\n",
    "#drop the first row since it seems to have an invalid timestamp\n",
    "df.drop(df.head(1).index,inplace=True) \n",
    "df['times'] = pd.to_datetime(df['GPS:dateTimeStamp'], format=\"%Y-%m-%dT%H:%M:%SZ\")\n",
    "df['times'] = df['times'] - timedelta(hours=4)\n",
    "\n",
    "#print(df['times'])"
   ]
  },
  {
   "cell_type": "code",
   "execution_count": null,
   "metadata": {},
   "outputs": [],
   "source": [
    "#If we don't have GPS, we need to estimate the clock speed. \n",
    "#the intent here is to load a log WITH GPS, and use the GPS time stamp to figure out the clock speed. \n",
    "\n",
    "#figure out how many ticks per second\n",
    "print(\"Log Duration:\")\n",
    "duration = df['times'].max() - df['times'].min()\n",
    "print(duration) \n",
    "\n",
    "print(\"Number of Ticks:\")\n",
    "ticks = df['Clock:Tick#'].max() - df['Clock:Tick#'].min()\n",
    "print(ticks)\n",
    "\n",
    "print(\"Ticks per second\")\n",
    "seconds = duration.total_seconds()\n",
    "freq = ticks/seconds\n",
    "print(freq)\n",
    "\n",
    "\n",
    "#based on the logs I took with the M300 outside, the clock rate of the log averages out to: \n",
    "#3843605.539 ticks per second.\n",
    "# so like.. 3.8MHz. \n",
    "#this 3.8MHz number is used above to give a time estimation for M300 logs that didn't have enough GPS data \n",
    "#(i.e. in the wind tunnel)\n"
   ]
  },
  {
   "cell_type": "code",
   "execution_count": null,
   "metadata": {},
   "outputs": [],
   "source": []
  },
  {
   "cell_type": "code",
   "execution_count": null,
   "metadata": {},
   "outputs": [],
   "source": []
  }
 ],
 "metadata": {
  "kernelspec": {
   "display_name": "Python 3 (ipykernel)",
   "language": "python",
   "name": "python3"
  },
  "language_info": {
   "codemirror_mode": {
    "name": "ipython",
    "version": 3
   },
   "file_extension": ".py",
   "mimetype": "text/x-python",
   "name": "python",
   "nbconvert_exporter": "python",
   "pygments_lexer": "ipython3",
   "version": "3.10.4"
  }
 },
 "nbformat": 4,
 "nbformat_minor": 2
}
